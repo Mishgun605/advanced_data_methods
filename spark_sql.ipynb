{
 "cells": [
  {
   "cell_type": "markdown",
   "metadata": {},
   "source": [
    "### Домашнее задание к лекции «Spark SQL»\n",
    "##### Оглавление\n",
    "[Задание 1.](#task1)   \n",
    "[Задание 2.](#task2)  \n",
    "[Задание 3.](#task3) "
   ]
  },
  {
   "cell_type": "markdown",
   "metadata": {},
   "source": [
    "<h5 style=\"color:Red\">Задание 1.</h5><a id='task1'></a> - Выберите 15 стран с наибольшим процентом переболевших на 31 марта (в выходящем датасете необходимы колонки: iso_code, страна, процент переболевших)"
   ]
  },
  {
   "cell_type": "code",
   "execution_count": 117,
   "metadata": {},
   "outputs": [],
   "source": [
    "from pyspark.sql import SparkSession\n",
    "from pyspark.sql.types import *\n",
    "from pyspark.sql.functions import * "
   ]
  },
  {
   "cell_type": "code",
   "execution_count": 2,
   "metadata": {},
   "outputs": [],
   "source": [
    "#создаем переменную с сессией \n",
    "spark = SparkSession.builder.appName(\"spark_sql\").getOrCreate()"
   ]
  },
  {
   "cell_type": "code",
   "execution_count": 57,
   "metadata": {},
   "outputs": [],
   "source": [
    "#читаем датафрейм\n",
    "df = spark.read.option('header', True).option('inferSchema', True).format('csv').load('owid-covid-data.csv', sep = ',')"
   ]
  },
  {
   "cell_type": "code",
   "execution_count": 8,
   "metadata": {},
   "outputs": [
    {
     "name": "stdout",
     "output_type": "stream",
     "text": [
      "+--------+---------+-----------+----------+-----------+---------+------------------+------------+----------+-------------------+-----------------------+---------------------+------------------------------+------------------------+----------------------+-------------------------------+-----------------+------------+------------------------+-------------+-------------------------+---------------------+---------------------------------+----------------------+----------------------------------+---------+-----------+------------------------+----------------------+------------------+-------------------------------+-------------+--------------+-----------+------------------+-----------------+-----------------------+----------------+-------------------------+------------------------------+-----------------------------+-----------------------------------+-------------------------------------+----------------+----------+------------------+----------+-------------+-------------+--------------+---------------+---------------------+-------------------+--------------+------------+----------------------+--------------------------+---------------+-----------------------+\n",
      "|iso_code|continent|   location|      date|total_cases|new_cases|new_cases_smoothed|total_deaths|new_deaths|new_deaths_smoothed|total_cases_per_million|new_cases_per_million|new_cases_smoothed_per_million|total_deaths_per_million|new_deaths_per_million|new_deaths_smoothed_per_million|reproduction_rate|icu_patients|icu_patients_per_million|hosp_patients|hosp_patients_per_million|weekly_icu_admissions|weekly_icu_admissions_per_million|weekly_hosp_admissions|weekly_hosp_admissions_per_million|new_tests|total_tests|total_tests_per_thousand|new_tests_per_thousand|new_tests_smoothed|new_tests_smoothed_per_thousand|positive_rate|tests_per_case|tests_units|total_vaccinations|people_vaccinated|people_fully_vaccinated|new_vaccinations|new_vaccinations_smoothed|total_vaccinations_per_hundred|people_vaccinated_per_hundred|people_fully_vaccinated_per_hundred|new_vaccinations_smoothed_per_million|stringency_index|population|population_density|median_age|aged_65_older|aged_70_older|gdp_per_capita|extreme_poverty|cardiovasc_death_rate|diabetes_prevalence|female_smokers|male_smokers|handwashing_facilities|hospital_beds_per_thousand|life_expectancy|human_development_index|\n",
      "+--------+---------+-----------+----------+-----------+---------+------------------+------------+----------+-------------------+-----------------------+---------------------+------------------------------+------------------------+----------------------+-------------------------------+-----------------+------------+------------------------+-------------+-------------------------+---------------------+---------------------------------+----------------------+----------------------------------+---------+-----------+------------------------+----------------------+------------------+-------------------------------+-------------+--------------+-----------+------------------+-----------------+-----------------------+----------------+-------------------------+------------------------------+-----------------------------+-----------------------------------+-------------------------------------+----------------+----------+------------------+----------+-------------+-------------+--------------+---------------+---------------------+-------------------+--------------+------------+----------------------+--------------------------+---------------+-----------------------+\n",
      "|     AFG|     Asia|Afghanistan|2020-02-24|        1.0|      1.0|              null|        null|      null|               null|                  0.026|                0.026|                          null|                    null|                  null|                           null|             null|        null|                    null|         null|                     null|                 null|                             null|                  null|                              null|     null|       null|                    null|                  null|              null|                           null|         null|          null|       null|              null|             null|                   null|            null|                     null|                          null|                         null|                               null|                                 null|            8.33|38928341.0|            54.422|      18.6|        2.581|        1.337|      1803.987|           null|              597.029|               9.59|          null|        null|                37.746|                       0.5|          64.83|                  0.511|\n",
      "|     AFG|     Asia|Afghanistan|2020-02-25|        1.0|      0.0|              null|        null|      null|               null|                  0.026|                  0.0|                          null|                    null|                  null|                           null|             null|        null|                    null|         null|                     null|                 null|                             null|                  null|                              null|     null|       null|                    null|                  null|              null|                           null|         null|          null|       null|              null|             null|                   null|            null|                     null|                          null|                         null|                               null|                                 null|            8.33|38928341.0|            54.422|      18.6|        2.581|        1.337|      1803.987|           null|              597.029|               9.59|          null|        null|                37.746|                       0.5|          64.83|                  0.511|\n",
      "|     AFG|     Asia|Afghanistan|2020-02-26|        1.0|      0.0|              null|        null|      null|               null|                  0.026|                  0.0|                          null|                    null|                  null|                           null|             null|        null|                    null|         null|                     null|                 null|                             null|                  null|                              null|     null|       null|                    null|                  null|              null|                           null|         null|          null|       null|              null|             null|                   null|            null|                     null|                          null|                         null|                               null|                                 null|            8.33|38928341.0|            54.422|      18.6|        2.581|        1.337|      1803.987|           null|              597.029|               9.59|          null|        null|                37.746|                       0.5|          64.83|                  0.511|\n",
      "|     AFG|     Asia|Afghanistan|2020-02-27|        1.0|      0.0|              null|        null|      null|               null|                  0.026|                  0.0|                          null|                    null|                  null|                           null|             null|        null|                    null|         null|                     null|                 null|                             null|                  null|                              null|     null|       null|                    null|                  null|              null|                           null|         null|          null|       null|              null|             null|                   null|            null|                     null|                          null|                         null|                               null|                                 null|            8.33|38928341.0|            54.422|      18.6|        2.581|        1.337|      1803.987|           null|              597.029|               9.59|          null|        null|                37.746|                       0.5|          64.83|                  0.511|\n",
      "|     AFG|     Asia|Afghanistan|2020-02-28|        1.0|      0.0|              null|        null|      null|               null|                  0.026|                  0.0|                          null|                    null|                  null|                           null|             null|        null|                    null|         null|                     null|                 null|                             null|                  null|                              null|     null|       null|                    null|                  null|              null|                           null|         null|          null|       null|              null|             null|                   null|            null|                     null|                          null|                         null|                               null|                                 null|            8.33|38928341.0|            54.422|      18.6|        2.581|        1.337|      1803.987|           null|              597.029|               9.59|          null|        null|                37.746|                       0.5|          64.83|                  0.511|\n",
      "+--------+---------+-----------+----------+-----------+---------+------------------+------------+----------+-------------------+-----------------------+---------------------+------------------------------+------------------------+----------------------+-------------------------------+-----------------+------------+------------------------+-------------+-------------------------+---------------------+---------------------------------+----------------------+----------------------------------+---------+-----------+------------------------+----------------------+------------------+-------------------------------+-------------+--------------+-----------+------------------+-----------------+-----------------------+----------------+-------------------------+------------------------------+-----------------------------+-----------------------------------+-------------------------------------+----------------+----------+------------------+----------+-------------+-------------+--------------+---------------+---------------------+-------------------+--------------+------------+----------------------+--------------------------+---------------+-----------------------+\n",
      "only showing top 5 rows\n",
      "\n"
     ]
    }
   ],
   "source": [
    "#проверяем, вроде получилось\n",
    "df.show(5)"
   ]
  },
  {
   "cell_type": "code",
   "execution_count": 96,
   "metadata": {},
   "outputs": [],
   "source": [
    "\"\"\" я не смог найти колонку с количеством переболевших, \n",
    "поэтому решил взять рассмотреть 15 стран с наибольшим количеством смертей \"\"\"\n",
    "df_filtered = df.select('iso_code', 'location', 'total_deaths', 'date').filter(df['date'] == '2021-03-01')\n"
   ]
  },
  {
   "cell_type": "code",
   "execution_count": 97,
   "metadata": {},
   "outputs": [
    {
     "name": "stdout",
     "output_type": "stream",
     "text": [
      "+--------+--------------+------------+-----------------+\n",
      "|iso_code|      location|total_deaths|max(total_deaths)|\n",
      "+--------+--------------+------------+-----------------+\n",
      "|OWID_WRL|         World|   2539947.0|        2539947.0|\n",
      "|OWID_EUR|        Europe|    817560.0|         817560.0|\n",
      "|OWID_NAM| North America|    750075.0|         750075.0|\n",
      "|OWID_EUN|European Union|    547909.0|         547909.0|\n",
      "|     USA| United States|    515796.0|         515796.0|\n",
      "|OWID_SAM| South America|    467842.0|         467842.0|\n",
      "|OWID_ASI|          Asia|    399483.0|         399483.0|\n",
      "|     BRA|        Brazil|    255720.0|         255720.0|\n",
      "|     MEX|        Mexico|    186152.0|         186152.0|\n",
      "|     IND|         India|    157248.0|         157248.0|\n",
      "|     GBR|United Kingdom|    123187.0|         123187.0|\n",
      "|OWID_AFR|        Africa|    104021.0|         104021.0|\n",
      "|     ITA|         Italy|     97945.0|          97945.0|\n",
      "|     FRA|        France|     86955.0|          86955.0|\n",
      "|     RUS|        Russia|     85025.0|          85025.0|\n",
      "+--------+--------------+------------+-----------------+\n",
      "only showing top 15 rows\n",
      "\n"
     ]
    }
   ],
   "source": [
    "#группируем отфильтрованный фрейм\n",
    "df_groupped = df_filtered.groupBy('iso_code', 'location', 'total_deaths').max('total_deaths').sort(desc('total_deaths'))\n",
    "df_groupped.show(15)\n"
   ]
  },
  {
   "cell_type": "markdown",
   "metadata": {},
   "source": [
    "<h5 style=\"color:Red\">Задание 2.</h5><a id='task2'></a> -Top 10 стран с максимальным зафиксированным кол-вом новых случаев за последнюю неделю марта 2021 в отсортированном порядке по убыванию\n",
    "(в выходящем датасете необходимы колонки: число, страна, кол-во новых случаев)"
   ]
  },
  {
   "cell_type": "code",
   "execution_count": 99,
   "metadata": {},
   "outputs": [],
   "source": [
    "df_1 = spark.read.option('header', True).option('inferSchema', True).format('csv').load('owid-covid-data.csv', sep = ',')"
   ]
  },
  {
   "cell_type": "code",
   "execution_count": 124,
   "metadata": {},
   "outputs": [],
   "source": [
    "df_cast = df_1.withColumn('date', col('date').cast('date'))"
   ]
  },
  {
   "cell_type": "code",
   "execution_count": 159,
   "metadata": {},
   "outputs": [
    {
     "name": "stdout",
     "output_type": "stream",
     "text": [
      "+-----------------+-----+\n",
      "|         location|count|\n",
      "+-----------------+-----+\n",
      "|             Chad|    7|\n",
      "|         Anguilla|    7|\n",
      "|          Eritrea|    7|\n",
      "|         Djibouti|    7|\n",
      "|          Comoros|    7|\n",
      "|      Afghanistan|    7|\n",
      "|         Cambodia|    7|\n",
      "|           Africa|    7|\n",
      "|         Dominica|    7|\n",
      "|          Algeria|    7|\n",
      "|Equatorial Guinea|    7|\n",
      "|        Argentina|    7|\n",
      "|           Angola|    7|\n",
      "|          Belgium|    7|\n",
      "|          Ecuador|    7|\n",
      "|          Albania|    7|\n",
      "|            Benin|    7|\n",
      "|          Bahamas|    7|\n",
      "|            China|    7|\n",
      "|          Belarus|    7|\n",
      "+-----------------+-----+\n",
      "only showing top 20 rows\n",
      "\n"
     ]
    }
   ],
   "source": [
    "filtered_df_1 = df_cast.filter(\n",
    "    col('date').between('2021-03-25', '2021-03-31')\n",
    ").select('total_cases', 'location', 'new_cases').groupBy('location').count().alias('count').orderBy('count', ascending = False).show()"
   ]
  }
 ],
 "metadata": {
  "kernelspec": {
   "display_name": "Python 3.9.13 ('venv': venv)",
   "language": "python",
   "name": "python3"
  },
  "language_info": {
   "codemirror_mode": {
    "name": "ipython",
    "version": 3
   },
   "file_extension": ".py",
   "mimetype": "text/x-python",
   "name": "python",
   "nbconvert_exporter": "python",
   "pygments_lexer": "ipython3",
   "version": "3.9.13"
  },
  "orig_nbformat": 4,
  "vscode": {
   "interpreter": {
    "hash": "e6ed16d7692b6d19826aad0360ec666836be378f25a061716b8d4f351d62363e"
   }
  }
 },
 "nbformat": 4,
 "nbformat_minor": 2
}
